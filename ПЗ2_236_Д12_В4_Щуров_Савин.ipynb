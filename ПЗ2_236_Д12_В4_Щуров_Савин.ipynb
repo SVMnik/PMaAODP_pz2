{
  "cells": [
    {
      "cell_type": "markdown",
      "source": [
        "# Цель работы\n",
        "Освоить методы решения задач линейного программирования с использованием различных библиотек Python и графического метода."
      ],
      "metadata": {
        "id": "eGp_V6Z-dOUa"
      }
    },
    {
      "cell_type": "markdown",
      "source": [
        "# Задачи:\n",
        "1. Решить ЗЛП на минимум и максимум\n",
        "$$F = 2x₁ – x₂ → min,max$$\n",
        "\n",
        "$$ x ₁≤3 $$\n",
        "$$ x ₁≥−1 $$\n",
        "$$ −2 x ₁−3 x ₂≤ 6 $$\n",
        "$$ −x ₁+2 x ₂≤ 6 $$\n",
        "\n",
        "\n",
        "с помощью:\n",
        "\n",
        "  - Библиотеки pulp\n",
        "\n",
        "  - Библиотеки scipy.optimize\n",
        "\n",
        "  - Библиотеки cvxopt\n",
        "\n",
        "2. Построить графическое решение с областью допустимых значений и оптимальными точками.\n",
        "\n",
        "3. Сравнить результаты, время работы и точность разных методов."
      ],
      "metadata": {
        "id": "WRiMDScm_ybI"
      }
    },
    {
      "cell_type": "markdown",
      "source": [
        "# Решение с использованием библиотеки PuLP"
      ],
      "metadata": {
        "id": "pZ7_ARi8C-bH"
      }
    },
    {
      "cell_type": "markdown",
      "source": [
        "Импорт библиотек: pulp - специализированная библиотека для линейного программирования, time - для измерения времени выполнения"
      ],
      "metadata": {
        "id": "SK1Jx-bhGZYV"
      }
    },
    {
      "cell_type": "code",
      "source": [
        "from pulp import *\n",
        "import time"
      ],
      "metadata": {
        "id": "lTOxxPh2DWPP"
      },
      "execution_count": 482,
      "outputs": []
    },
    {
      "cell_type": "markdown",
      "source": [
        "Старт таймера: Начало измерения времени для PULP"
      ],
      "metadata": {
        "id": "ZXHbblwKDbUG"
      }
    },
    {
      "cell_type": "code",
      "source": [
        "start = time.time()"
      ],
      "metadata": {
        "id": "P5DU74R_Dgjm"
      },
      "execution_count": 483,
      "outputs": []
    },
    {
      "cell_type": "markdown",
      "source": [
        "Определение переменных: Создает переменные x1 и x2 без ограничений снизу (lowBound=None), так как ограничения будут заданы отдельно"
      ],
      "metadata": {
        "id": "A7ZufNyEDlIe"
      }
    },
    {
      "cell_type": "code",
      "source": [
        "x1 = LpVariable(\"x1\", lowBound=None)\n",
        "x2 = LpVariable(\"x2\", lowBound=None)"
      ],
      "metadata": {
        "id": "qsfaGCXfDotu"
      },
      "execution_count": 484,
      "outputs": []
    },
    {
      "cell_type": "markdown",
      "source": [
        "Инициализация задачи максимизации: Создает объект задачи с именем \"Maximize\" и направлением оптимизации LpMaximize"
      ],
      "metadata": {
        "id": "lERfaQcjDvsG"
      }
    },
    {
      "cell_type": "code",
      "source": [
        "prob_max = LpProblem(\"Maximize\", LpMaximize)"
      ],
      "metadata": {
        "id": "Eld5RRHdD2He"
      },
      "execution_count": 485,
      "outputs": []
    },
    {
      "cell_type": "markdown",
      "source": [
        "Определение целевой функции: Добавляет целевую функцию 2*x1 - x2 к задаче максимизации"
      ],
      "metadata": {
        "id": "gbSH2cp1D5su"
      }
    },
    {
      "cell_type": "code",
      "source": [
        "prob_max += 2*x1 - x2"
      ],
      "metadata": {
        "id": "8GBU1CtSD8Ev"
      },
      "execution_count": 486,
      "outputs": []
    },
    {
      "cell_type": "markdown",
      "source": [
        "Добавление ограничений: Последовательно добавляем четыре ограничения задачи:"
      ],
      "metadata": {
        "id": "m_sgloJ4Efvm"
      }
    },
    {
      "cell_type": "code",
      "source": [
        "prob_max += x1 <= 3        # Первое ограничение: x1 ≤ 3\n",
        "prob_max += x1 >= -1       # Второе ограничение: x1 ≥ -1\n",
        "prob_max += -2*x1 - 3*x2 <= 6  # Третье ограничение: -2x1 - 3x2 ≤ 6\n",
        "prob_max += -x1 + 2*x2 <= 6    # Четвертое ограничение: -x1 + 2x2 ≤ 6"
      ],
      "metadata": {
        "id": "-N2JA7KaEkTe"
      },
      "execution_count": 487,
      "outputs": []
    },
    {
      "cell_type": "markdown",
      "source": [
        "Решение задачи: Запускаем алгоритм оптимизации для задачи максимизации"
      ],
      "metadata": {
        "id": "ahHTZBYfEqA9"
      }
    },
    {
      "cell_type": "code",
      "source": [
        "prob_max.solve()"
      ],
      "metadata": {
        "colab": {
          "base_uri": "https://localhost:8080/"
        },
        "id": "lI1RUO57E1g-",
        "outputId": "aae277c0-8984-4312-e232-108eef133fa7"
      },
      "execution_count": 488,
      "outputs": [
        {
          "output_type": "execute_result",
          "data": {
            "text/plain": [
              "1"
            ]
          },
          "metadata": {},
          "execution_count": 488
        }
      ]
    },
    {
      "cell_type": "markdown",
      "source": [
        "Извлечение оптимального значения: Получает численное значение целевой функции в точке оптимума"
      ],
      "metadata": {
        "id": "AH4Fh1ePE4yW"
      }
    },
    {
      "cell_type": "code",
      "source": [
        "max_val = value(prob_max.objective)"
      ],
      "metadata": {
        "id": "IckphKAAE8MG"
      },
      "execution_count": 489,
      "outputs": []
    },
    {
      "cell_type": "markdown",
      "source": [
        "Извлечение координат оптимальной точки: Получает значения переменных x1 и x2 в оптимальной точке"
      ],
      "metadata": {
        "id": "q73tjd8HFCPu"
      }
    },
    {
      "cell_type": "code",
      "source": [
        "max_point = (x1.varValue, x2.varValue)"
      ],
      "metadata": {
        "id": "blwcqfzeFHb-"
      },
      "execution_count": 490,
      "outputs": []
    },
    {
      "cell_type": "markdown",
      "source": [
        "Инициализация задачи минимизации: Создает новую задачу с направлением LpMinimize"
      ],
      "metadata": {
        "id": "kwpfK7xaFMi-"
      }
    },
    {
      "cell_type": "code",
      "source": [
        "prob_min = LpProblem(\"Minimize\", LpMinimize)"
      ],
      "metadata": {
        "id": "mLi5y8olFPEe"
      },
      "execution_count": 491,
      "outputs": []
    },
    {
      "cell_type": "markdown",
      "source": [
        "Целевая функция для минимизации: Та же целевая функция, но теперь минимизируется"
      ],
      "metadata": {
        "id": "us-xML7GFSEu"
      }
    },
    {
      "cell_type": "code",
      "source": [
        "prob_min += 2*x1 - x2"
      ],
      "metadata": {
        "id": "kEg7TMM0FU-G"
      },
      "execution_count": 492,
      "outputs": []
    },
    {
      "cell_type": "markdown",
      "source": [
        "Дублирование ограничений: Те же ограничения, что и для максимизации"
      ],
      "metadata": {
        "id": "9cuKO_PuFZi2"
      }
    },
    {
      "cell_type": "code",
      "source": [
        "prob_min += x1 <= 3        # Первое ограничение: x1 ≤ 3\n",
        "prob_min += x1 >= -1       # Второе ограничение: x1 ≥ -1\n",
        "prob_min += -2*x1 - 3*x2 <= 6  # Третье ограничение: -2x1 - 3x2 ≤ 6\n",
        "prob_min += -x1 + 2*x2 <= 6    # Четвертое ограничение: -x1 + 2x2 ≤ 6"
      ],
      "metadata": {
        "id": "D6wixm6kFb6G"
      },
      "execution_count": 493,
      "outputs": []
    },
    {
      "cell_type": "markdown",
      "source": [
        "Решение задачи минимизации: Запуск алгоритма оптимизации"
      ],
      "metadata": {
        "id": "dR1Yed-FFd0W"
      }
    },
    {
      "cell_type": "code",
      "source": [
        "prob_min.solve()"
      ],
      "metadata": {
        "colab": {
          "base_uri": "https://localhost:8080/"
        },
        "id": "ogt8R4WGFgL2",
        "outputId": "5faec5fd-0349-45a1-cbca-5620e92ee5b9"
      },
      "execution_count": 494,
      "outputs": [
        {
          "output_type": "execute_result",
          "data": {
            "text/plain": [
              "1"
            ]
          },
          "metadata": {},
          "execution_count": 494
        }
      ]
    },
    {
      "cell_type": "markdown",
      "source": [
        "Извлечение минимального значения: Значение целевой функции в точке минимума"
      ],
      "metadata": {
        "id": "x8xEJVbjFiRd"
      }
    },
    {
      "cell_type": "code",
      "source": [
        "min_val = value(prob_min.objective)"
      ],
      "metadata": {
        "id": "Nm0PkvL5FmC2"
      },
      "execution_count": 495,
      "outputs": []
    },
    {
      "cell_type": "markdown",
      "source": [
        "Координаты точки минимума: Значения переменных в оптимальной точке для минимизации"
      ],
      "metadata": {
        "id": "Mzw9UHSaFoa-"
      }
    },
    {
      "cell_type": "code",
      "source": [
        "min_point = (x1.varValue, x2.varValue)"
      ],
      "metadata": {
        "id": "j6v5_cQKFrIO"
      },
      "execution_count": 496,
      "outputs": []
    },
    {
      "cell_type": "markdown",
      "source": [
        "Фиксация времени окончания: Запись времени завершения вычислений для PULP"
      ],
      "metadata": {
        "id": "rRvnNDsrFwH-"
      }
    },
    {
      "cell_type": "code",
      "source": [
        "stop = time.time()"
      ],
      "metadata": {
        "id": "cF9OXO-vFyW-"
      },
      "execution_count": 497,
      "outputs": []
    },
    {
      "cell_type": "markdown",
      "source": [
        "Расчет времени выполнения: Разница между конечным и начальным временем для pulp"
      ],
      "metadata": {
        "id": "HKf2JdrLF40-"
      }
    },
    {
      "cell_type": "code",
      "source": [
        "pulp_time = stop - start"
      ],
      "metadata": {
        "id": "18CA7ZUJF8gl"
      },
      "execution_count": 498,
      "outputs": []
    },
    {
      "cell_type": "markdown",
      "source": [
        "Вывод результатов: Форматированный вывод оптимальных значений, точек и времени выполнения"
      ],
      "metadata": {
        "id": "NvF5ADPgF-22"
      }
    },
    {
      "cell_type": "code",
      "source": [
        "print(\"Результат pulp:\")\n",
        "print(f\"Max F = {max_val} at {max_point}\")  # Максимальное значение и точка\n",
        "print(f\"Min F = {min_val} at {min_point}\")  # Минимальное значение и точка\n",
        "print(f\"Время: {pulp_time} sec\")         # Время выполнения"
      ],
      "metadata": {
        "id": "7-9aU7qPdOby",
        "colab": {
          "base_uri": "https://localhost:8080/"
        },
        "outputId": "a46d96a4-4333-4a08-ee22-f86f2694a815"
      },
      "execution_count": 499,
      "outputs": [
        {
          "output_type": "stream",
          "name": "stdout",
          "text": [
            "Результат pulp:\n",
            "Max F = 10.0 at (3.0, -4.0)\n",
            "Min F = -4.5 at (-1.0, 2.5)\n",
            "Время: 0.14996814727783203 sec\n"
          ]
        }
      ]
    },
    {
      "cell_type": "markdown",
      "source": [
        "# Решение с использованием библиотеки CVXOPT"
      ],
      "metadata": {
        "id": "9qALaBrJGOOm"
      }
    },
    {
      "cell_type": "markdown",
      "source": [
        "Импорт CVXOPT: Библиотека для выпуклой оптимизации"
      ],
      "metadata": {
        "id": "4ZjxLdB4GUIV"
      }
    },
    {
      "cell_type": "code",
      "source": [
        "from cvxopt.modeling import variable, op"
      ],
      "metadata": {
        "id": "kpKuNualGefd"
      },
      "execution_count": 500,
      "outputs": []
    },
    {
      "cell_type": "markdown",
      "source": [
        "Старт таймера: Начало измерения времени для CVXOPT"
      ],
      "metadata": {
        "id": "1epKYbWCGgTt"
      }
    },
    {
      "cell_type": "code",
      "source": [
        "start = time.time()"
      ],
      "metadata": {
        "id": "b9j0tYtJG19O"
      },
      "execution_count": 501,
      "outputs": []
    },
    {
      "cell_type": "markdown",
      "source": [
        "Определение переменных: Создание переменных оптимизации"
      ],
      "metadata": {
        "id": "VtQtPn1lG4b1"
      }
    },
    {
      "cell_type": "code",
      "source": [
        "x1 = variable()\n",
        "x2 = variable()"
      ],
      "metadata": {
        "id": "HlnkltvuG6id"
      },
      "execution_count": 502,
      "outputs": []
    },
    {
      "cell_type": "markdown",
      "source": [
        "Целевая функция: функция для минимизации"
      ],
      "metadata": {
        "id": "9SjUKXToG8N9"
      }
    },
    {
      "cell_type": "code",
      "source": [
        "objective_min = 2*x1 - x2"
      ],
      "metadata": {
        "id": "g-G-xuyuHKIF"
      },
      "execution_count": 503,
      "outputs": []
    },
    {
      "cell_type": "markdown",
      "source": [
        "Список ограничений: Все ограничения собраны в массив"
      ],
      "metadata": {
        "id": "I7LvKMb_HM7V"
      }
    },
    {
      "cell_type": "code",
      "source": [
        "constraints_min = [\n",
        "    x1 <= 3,           # x1 ≤ 3\n",
        "    x1 >= -1,          # x1 ≥ -1\n",
        "    -2*x1 - 3*x2 <= 6, # -2x1 - 3x2 ≤ 6\n",
        "    -x1 + 2*x2 <= 6    # -x1 + 2x2 ≤ 6\n",
        "]"
      ],
      "metadata": {
        "id": "8Wc8AEzRHZP1"
      },
      "execution_count": 504,
      "outputs": []
    },
    {
      "cell_type": "markdown",
      "source": [
        "Решение задачи: Создание и решение задачи минимизации"
      ],
      "metadata": {
        "id": "2ArAUNG5HcsN"
      }
    },
    {
      "cell_type": "code",
      "source": [
        "prob_min = op(objective_min, constraints_min)\n",
        "prob_min.solve(solver='glpk')"
      ],
      "metadata": {
        "id": "P2NoUxYVHiul"
      },
      "execution_count": 505,
      "outputs": []
    },
    {
      "cell_type": "markdown",
      "source": [
        "Извлечение результатов: Получение значений через атрибуты .value()"
      ],
      "metadata": {
        "id": "ctnWl4pqHmX9"
      }
    },
    {
      "cell_type": "code",
      "source": [
        "min_val = prob_min.objective.value()[0]  # Значение целевой функции в минимуме\n",
        "min_point = (x1.value[0], x2.value[0])   # Точка минимума"
      ],
      "metadata": {
        "id": "sfeLfaeXHolF"
      },
      "execution_count": 506,
      "outputs": []
    },
    {
      "cell_type": "markdown",
      "source": [
        "Целевая функция для максимизации: Та же функция, но для максимума"
      ],
      "metadata": {
        "id": "ObZ7AhKhHsQ9"
      }
    },
    {
      "cell_type": "code",
      "source": [
        "objective_max = 2*x1 - x2"
      ],
      "metadata": {
        "id": "iTj9JauRH3E9"
      },
      "execution_count": 507,
      "outputs": []
    },
    {
      "cell_type": "markdown",
      "source": [
        "Ограничения для максимизации: Те же ограничения"
      ],
      "metadata": {
        "id": "Bpa4UgL_H5gt"
      }
    },
    {
      "cell_type": "code",
      "source": [
        "constraints_max = [\n",
        "    x1 <= 3,           # x1 ≤ 3\n",
        "    x1 >= -1,          # x1 ≥ -1\n",
        "    -2*x1 - 3*x2 <= 6, # -2x1 - 3x2 ≤ 6\n",
        "    -x1 + 2*x2 <= 6    # -x1 + 2x2 ≤ 6\n",
        "]"
      ],
      "metadata": {
        "id": "MOBuGVbIH9fP"
      },
      "execution_count": 508,
      "outputs": []
    },
    {
      "cell_type": "markdown",
      "source": [
        "Задача максимизацией: Поскольку CVXOPT не поддерживает прямую максимизацию, минимизируется отрицательная целевая функция"
      ],
      "metadata": {
        "id": "D3c7W4u5IA11"
      }
    },
    {
      "cell_type": "code",
      "source": [
        "prob_max = op(-objective_max, constraints_max)\n",
        "prob_max.solve(solver='glpk')"
      ],
      "metadata": {
        "id": "k0xvQj6UIJpF"
      },
      "execution_count": 509,
      "outputs": []
    },
    {
      "cell_type": "markdown",
      "source": [
        "Корректировка результата: Умножение на -1 для получения правильного значения максимума"
      ],
      "metadata": {
        "id": "x779eEuTIM0N"
      }
    },
    {
      "cell_type": "code",
      "source": [
        "max_val = -prob_max.objective.value()[0]  # Значение целевой функции в максимуме\n",
        "max_point = (x1.value[0], x2.value[0])    # Точка максимума"
      ],
      "metadata": {
        "id": "s4ZtBI7BIP_d"
      },
      "execution_count": 510,
      "outputs": []
    },
    {
      "cell_type": "markdown",
      "source": [
        "Фиксация времени окончания: Запись времени завершения вычислений для CVXOPT"
      ],
      "metadata": {
        "id": "ZP4thvSpITjM"
      }
    },
    {
      "cell_type": "code",
      "source": [
        "stop = time.time()"
      ],
      "metadata": {
        "id": "xN-K7UHOIfMU"
      },
      "execution_count": 511,
      "outputs": []
    },
    {
      "cell_type": "markdown",
      "source": [
        "Расчет времени выполнения: Разница между конечным и начальным временем для CVXOPT"
      ],
      "metadata": {
        "id": "GrR7lltkIi8l"
      }
    },
    {
      "cell_type": "code",
      "source": [
        "cvxopt_time = stop - start"
      ],
      "metadata": {
        "id": "TyuZjuWmIthV"
      },
      "execution_count": 512,
      "outputs": []
    },
    {
      "cell_type": "markdown",
      "source": [
        "Вывод результатов CVXOPT: Аналогично PuLP"
      ],
      "metadata": {
        "id": "e53PYXYfIzIU"
      }
    },
    {
      "cell_type": "code",
      "source": [
        "print(\"Резёльтат cvxopt:\")\n",
        "print(f\"Max F = {max_val} at {max_point}\")  # Максимальное значение и точка\n",
        "print(f\"Min F = {min_val} at {min_point}\")  # Минимальное значение и точка\n",
        "print(f\"Время: {cvxopt_time} sec\")         # Время выполнения"
      ],
      "metadata": {
        "colab": {
          "base_uri": "https://localhost:8080/"
        },
        "id": "ptNJ1VuPibn_",
        "outputId": "3d95359c-f163-4fd2-a719-aa2a3bde955e"
      },
      "execution_count": 513,
      "outputs": [
        {
          "output_type": "stream",
          "name": "stdout",
          "text": [
            "Резёльтат cvxopt:\n",
            "Max F = 10.0 at (3.0, -4.0)\n",
            "Min F = -4.5 at (-1.0, 2.5)\n",
            "Время: 0.08070993423461914 sec\n"
          ]
        }
      ]
    },
    {
      "cell_type": "markdown",
      "source": [
        "# Решение с использованием SciPy"
      ],
      "metadata": {
        "id": "WTAj2HcMI3Os"
      }
    },
    {
      "cell_type": "markdown",
      "source": [
        "Импорт linprog: Функция для линейного программирования из SciPy"
      ],
      "metadata": {
        "id": "XSc0fwJ3I51k"
      }
    },
    {
      "cell_type": "code",
      "source": [
        "from scipy.optimize import linprog"
      ],
      "metadata": {
        "id": "MyIAAr2QI8wE"
      },
      "execution_count": 514,
      "outputs": []
    },
    {
      "cell_type": "markdown",
      "source": [
        "Старт таймера: Начало измерения времени для SciPy"
      ],
      "metadata": {
        "id": "mCwURRQcJCO1"
      }
    },
    {
      "cell_type": "code",
      "source": [
        "start = time.time()"
      ],
      "metadata": {
        "id": "Q7zHgNoSJFOk"
      },
      "execution_count": 515,
      "outputs": []
    },
    {
      "cell_type": "markdown",
      "source": [
        "Коэффициенты целевых функций: Минимизация и максимизация"
      ],
      "metadata": {
        "id": "Zvzfs6n2JJa0"
      }
    },
    {
      "cell_type": "code",
      "source": [
        "# Целевая функция для минимизации: 2x1 - x2\n",
        "c_min = [2, -1]\n",
        "# Целевая функция для максимизации: -2x1 + x2\n",
        "c_max = [-2, 1]"
      ],
      "metadata": {
        "id": "r6DZKTtpJacT"
      },
      "execution_count": 516,
      "outputs": []
    },
    {
      "cell_type": "markdown",
      "source": [
        "Матрица ограничений: Преобразование всех ограничений в форму A_ub * x <= b_ub"
      ],
      "metadata": {
        "id": "fdMYcD52JfmM"
      }
    },
    {
      "cell_type": "code",
      "source": [
        "A_ub = [\n",
        "    [1, 0],    # x1 <= 3\n",
        "    [-1, 0],   # -x1 <= 1  → x1 >= -1\n",
        "    [-2, -3],  # -2x1 - 3x2 <= 6\n",
        "    [-1, 2]    # -x1 + 2x2 <= 6\n",
        "]\n",
        "b_ub = [3, 1, 6, 6]"
      ],
      "metadata": {
        "id": "SQNQ2YGyJpvE"
      },
      "execution_count": 517,
      "outputs": []
    },
    {
      "cell_type": "markdown",
      "source": [
        "Неограниченные переменные: Обе переменные могут принимать любые значения"
      ],
      "metadata": {
        "id": "b6HwoZz7Jsl9"
      }
    },
    {
      "cell_type": "code",
      "source": [
        "bounds = [(None, None), (None, None)]"
      ],
      "metadata": {
        "id": "1TiUB9D_JudE"
      },
      "execution_count": 518,
      "outputs": []
    },
    {
      "cell_type": "markdown",
      "source": [
        "Решение задачи максимизации"
      ],
      "metadata": {
        "id": "M_7dqSKqJ5Js"
      }
    },
    {
      "cell_type": "code",
      "source": [
        "res_max = linprog(c_max, A_ub=A_ub, b_ub=b_ub, bounds=bounds, method='highs')"
      ],
      "metadata": {
        "id": "8OUqEbvKJ-ys"
      },
      "execution_count": 519,
      "outputs": []
    },
    {
      "cell_type": "markdown",
      "source": [
        "Решение задачи минимизации"
      ],
      "metadata": {
        "id": "SDZlHCDpKAQ8"
      }
    },
    {
      "cell_type": "code",
      "source": [
        "res_min = linprog(c_min, A_ub=A_ub, b_ub=b_ub, bounds=bounds, method='highs')"
      ],
      "metadata": {
        "id": "5cTtej8pKDt0"
      },
      "execution_count": 520,
      "outputs": []
    },
    {
      "cell_type": "markdown",
      "source": [
        "Фиксация времени окончания: Запись времени завершения вычислений для SCIPY"
      ],
      "metadata": {
        "id": "LXP_n9D7KG-k"
      }
    },
    {
      "cell_type": "code",
      "source": [
        "stop = time.time()"
      ],
      "metadata": {
        "id": "HIGKlfMtKWJs"
      },
      "execution_count": 521,
      "outputs": []
    },
    {
      "cell_type": "markdown",
      "source": [
        "Расчет времени выполнения: Разница между конечным и начальным временем для SCIPY"
      ],
      "metadata": {
        "id": "Z7dSf3mdKZtk"
      }
    },
    {
      "cell_type": "code",
      "source": [
        "scipy_time = stop - start"
      ],
      "metadata": {
        "id": "Sxn0lVU1KeFU"
      },
      "execution_count": 522,
      "outputs": []
    },
    {
      "cell_type": "markdown",
      "source": [
        "Вывод результатов: Корректировка значения максимума (умножение на -1)"
      ],
      "metadata": {
        "id": "93w7xvbhKhRs"
      }
    },
    {
      "cell_type": "code",
      "source": [
        "print(\"Резёльтат scipy.optimize:\")\n",
        "print(f\"Max F = {-res_max.fun} at ({res_max.x[0]}, {res_max.x[1]})\")  # Максимальное значение и точка\n",
        "print(f\"Min F = {res_min.fun} at ({res_min.x[0]}, {res_min.x[1]})\")  # Минимальное значение и точка\n",
        "print(f\"Время: {cvxopt_time} sec\")         # Время выполнения"
      ],
      "metadata": {
        "colab": {
          "base_uri": "https://localhost:8080/"
        },
        "id": "Lbhpk0Jk4re7",
        "outputId": "62784b82-4fd2-451f-e3ca-ece18929ff7b"
      },
      "execution_count": 523,
      "outputs": [
        {
          "output_type": "stream",
          "name": "stdout",
          "text": [
            "Резёльтат scipy.optimize:\n",
            "Max F = 10.0 at (3.0, -4.0)\n",
            "Min F = -4.5 at (-1.0, 2.5)\n",
            "Время: 0.08070993423461914 sec\n"
          ]
        }
      ]
    },
    {
      "cell_type": "markdown",
      "source": [
        "# Сравнение производительности"
      ],
      "metadata": {
        "id": "33IE-4kYKtG8"
      }
    },
    {
      "cell_type": "markdown",
      "source": [
        "Словарь времен: Структура для хранения времени выполнения всех методов"
      ],
      "metadata": {
        "id": "vPcTtccVKwHE"
      }
    },
    {
      "cell_type": "code",
      "source": [
        "times = {\n",
        "    'pulp': pulp_time,\n",
        "    'cvxopt': cvxopt_time,\n",
        "    'scipy.optimize': scipy_time\n",
        "}"
      ],
      "metadata": {
        "id": "mMYM3sx8KyD0"
      },
      "execution_count": 524,
      "outputs": []
    },
    {
      "cell_type": "markdown",
      "source": [
        "Определение самого быстрого метода: Использование функции min с ключом times.get для нахождения метода с минимальным временем"
      ],
      "metadata": {
        "id": "QR7oVJ1HKzxL"
      }
    },
    {
      "cell_type": "code",
      "source": [
        "fastest_method = min(times, key=times.get)\n",
        "fastest_time = times[fastest_method]"
      ],
      "metadata": {
        "id": "RYwCISDjK8ws"
      },
      "execution_count": 525,
      "outputs": []
    },
    {
      "cell_type": "markdown",
      "source": [
        "Таблица сравнения: Форматированный вывод времени выполнения для каждого метода и вывод победителя"
      ],
      "metadata": {
        "id": "uYJ7t3yUK_w0"
      }
    },
    {
      "cell_type": "code",
      "source": [
        "print(\"\\nСравнение производительности методов:\")\n",
        "for method, time_val in times.items():\n",
        "    print(f\"{method}: {time_val:.6f} сек\")\n",
        "\n",
        "print(f\"Самый быстрый метод: {fastest_method} ({fastest_time:.6f} сек)\")"
      ],
      "metadata": {
        "colab": {
          "base_uri": "https://localhost:8080/"
        },
        "id": "6yS9UV2kLCEs",
        "outputId": "dda7222f-8319-47da-eee8-e348652b70d8"
      },
      "execution_count": 526,
      "outputs": [
        {
          "output_type": "stream",
          "name": "stdout",
          "text": [
            "\n",
            "Сравнение производительности методов:\n",
            "pulp: 0.149968 сек\n",
            "cvxopt: 0.080710 сек\n",
            "scipy.optimize: 0.048787 сек\n",
            "Самый быстрый метод: scipy.optimize (0.048787 сек)\n"
          ]
        }
      ]
    },
    {
      "cell_type": "markdown",
      "source": [
        "# Графическое отображение"
      ],
      "metadata": {
        "id": "UsxTBz-4Lf8E"
      }
    },
    {
      "cell_type": "markdown",
      "source": [
        "Импорт библиотек визуализации: matplotlib для графиков, numpy для математических операций"
      ],
      "metadata": {
        "id": "xsBX6IV3LlJ0"
      }
    },
    {
      "cell_type": "code",
      "source": [
        "import matplotlib.pyplot as plt\n",
        "import numpy as np"
      ],
      "metadata": {
        "id": "T-LxylNeLnGk"
      },
      "execution_count": 527,
      "outputs": []
    },
    {
      "cell_type": "markdown",
      "source": [
        "Создание сетки размером 400 в диапазоне [-2, 4]"
      ],
      "metadata": {
        "id": "hXtm_O3RLp2U"
      }
    },
    {
      "cell_type": "code",
      "source": [
        "x1 = np.linspace(-2, 4, 400)"
      ],
      "metadata": {
        "id": "soTLPLODL3LL"
      },
      "execution_count": 528,
      "outputs": []
    },
    {
      "cell_type": "markdown",
      "source": [
        "создание ограничений"
      ],
      "metadata": {
        "id": "Gf38oANPL84j"
      }
    },
    {
      "cell_type": "code",
      "source": [
        "cond1 = (-2*x1 - 6)/3\n",
        "cond2 = (6 + x1)/2"
      ],
      "metadata": {
        "id": "8X5mAkDaMIfU"
      },
      "execution_count": 529,
      "outputs": []
    },
    {
      "cell_type": "markdown",
      "source": [
        "Инициализация графика: Создание фигуры с заданным размером"
      ],
      "metadata": {
        "id": "fzHt7f4rMMxj"
      }
    },
    {
      "cell_type": "code",
      "source": [
        "plt.figure(figsize=(10, 8))"
      ],
      "metadata": {
        "colab": {
          "base_uri": "https://localhost:8080/",
          "height": 53
        },
        "id": "NyGfjo-cMPN8",
        "outputId": "c45fa1e4-8192-47bf-e16d-95b6c4604d06"
      },
      "execution_count": 530,
      "outputs": [
        {
          "output_type": "execute_result",
          "data": {
            "text/plain": [
              "<Figure size 1000x800 with 0 Axes>"
            ]
          },
          "metadata": {},
          "execution_count": 530
        },
        {
          "output_type": "display_data",
          "data": {
            "text/plain": [
              "<Figure size 1000x800 with 0 Axes>"
            ]
          },
          "metadata": {}
        }
      ]
    },
    {
      "cell_type": "markdown",
      "source": [
        "Построение графика:\n",
        "- Графическое отображение преобразованных ограничений\n",
        "- Создание вертикальных ограничений\n",
        "- Создание границы заливки(Определение области между ограничениями с искусственными пределами для видимости)\n",
        "- Создание маски допустимой области(Логическая маска, определяющая где x1 между -1 и 3, и где верхняя граница выше нижней)\n",
        "- Заливка допустимой области(Визуальное выделение области серым цветом, удовлетворяющей всем ограничениям),\n",
        "- Создание точки максимума(Красная точка с подписью значения целевой функции)\n",
        "- Создание точки минимума(Синяя точка с подписью значения целевой функции)\n",
        "- Финальная настройка графика( Установка пределов, подписей, заголовка, сетки и отображение)"
      ],
      "metadata": {
        "id": "Qc-vwTcqMRB8"
      }
    },
    {
      "cell_type": "code",
      "source": [
        "plt.plot(x1, cond1, label='-2x1 - 3x2 ≤ 6')  # Линия первого ограничения\n",
        "plt.plot(x1, cond2, label='-x1 + 2x2 ≤ 6')   # Линия второго ограничения\n",
        "\n",
        "plt.axvline(x=3, color='red', label='x1 ≤ 3')      # Красная вертикальная линия при x1=3\n",
        "plt.axvline(x=-1, color='green', label='x1 ≥ -1') # Зеленая вертикальная линия при x1=-1\n",
        "\n",
        "x2_min = np.maximum(cond1, -10)  # Нижняя граница (не ниже -10 для видимости)\n",
        "x2_max = np.minimum(cond2, 10)   # Верхняя граница (не выше 10 для видимости)\n",
        "\n",
        "mask = (x1 >= -1) & (x1 <= 3) & (x2_min < x2_max)\n",
        "\n",
        "plt.fill_between(x1[mask], x2_min[mask], x2_max[mask], alpha=0.3, color='gray', label='ОДР')\n",
        "\n",
        "plt.plot(res_max.x[0], res_max.x[1], 'ro', markersize=8, label='Max F(3, -4) = 10')\n",
        "\n",
        "plt.plot(res_min.x[0], res_min.x[1], 'bo', markersize=8, label='Min F(-1, 2.5) = -8')\n",
        "\n",
        "plt.xlim(-2, 4)      # Границы по оси x\n",
        "plt.ylim(-5, 7)      # Границы по оси y\n",
        "plt.xlabel('x1')     # Подпись оси x\n",
        "plt.ylabel('x2')     # Подпись оси y\n",
        "plt.title('Графическое решение ЗЛП (Вариант 4)')  # Заголовок графика\n",
        "plt.grid(True)       # Включение сетки\n",
        "plt.legend()         # Отображение легенды\n",
        "plt.show()           # Показать график"
      ],
      "metadata": {
        "colab": {
          "base_uri": "https://localhost:8080/",
          "height": 472
        },
        "id": "h978lKyVMTCb",
        "outputId": "613eb742-5900-4400-fb87-9c908a358449"
      },
      "execution_count": 531,
      "outputs": [
        {
          "output_type": "display_data",
          "data": {
            "text/plain": [
              "<Figure size 640x480 with 1 Axes>"
            ],
            "image/png": "[encoded data removed]"
          },
          "metadata": {}
        }
      ]
    }
  ],
  "metadata": {
    "colab": {
      "toc_visible": true,
      "provenance": []
    },
    "kernelspec": {
      "display_name": "Python 3",
      "name": "python3"
    }
  },
  "nbformat": 4,
  "nbformat_minor": 0
}